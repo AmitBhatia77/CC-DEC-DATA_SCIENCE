{
 "cells": [
  {
   "cell_type": "code",
   "execution_count": null,
   "metadata": {},
   "outputs": [],
   "source": [
    "\n",
    "\n",
    "\n",
    "\n",
    "from apyori import apriori\n",
    "\n",
    "\n",
    "dataset = [\n",
    "    ['Bread', 'Milk'],\n",
    "    ['Bread', 'Diapers', 'Beer', 'Eggs'],\n",
    "    ['Milk', 'Diapers', 'Beer', 'Coke'],\n",
    "    ['Bread', 'Milk', 'Diapers', 'Beer'],\n",
    "    ['Bread', 'Milk', 'Diapers', 'Coke']\n",
    "]\n",
    "\n",
    "\n",
    "association_rules = apriori(dataset, min_support=0.5, min_confidence=0.5)\n",
    "\n",
    "association_results = list(association_rules)\n",
    "\n",
    "for item in association_results:\n",
    "   \n",
    "    lhs = item[0]\n",
    "   \n",
    "    rhs = item[1]\n",
    "    \n",
    "    confidence = item[2][0][2]\n",
    "    \n",
    "    support = item[2][0][3]\n",
    "\n",
    "    print(\"Rule: \" + str(lhs) + \" -> \" + str(rhs))\n",
    "    print(\"Confidence: \" + str(confidence))\n",
    "    print(\"Support: \" + str(support))\n",
    "    print(\"\")\n"
   ]
  }
 ],
 "metadata": {
  "kernelspec": {
   "display_name": "Python 3.9.9 64-bit",
   "language": "python",
   "name": "python3"
  },
  "language_info": {
   "name": "python",
   "version": "3.9.9 (tags/v3.9.9:ccb0e6a, Nov 15 2021, 18:08:50) [MSC v.1929 64 bit (AMD64)]"
  },
  "orig_nbformat": 4,
  "vscode": {
   "interpreter": {
    "hash": "4cff3abf1678755e0069fd79299a535fe1940bcd71a6b01d9f4386710b2b163f"
   }
  }
 },
 "nbformat": 4,
 "nbformat_minor": 2
}
